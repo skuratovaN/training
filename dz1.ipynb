{
 "cells": [
  {
   "cell_type": "markdown",
   "id": "3dd3458f",
   "metadata": {},
   "source": [
    "# №1"
   ]
  },
  {
   "cell_type": "code",
   "execution_count": 47,
   "id": "5ab6587f",
   "metadata": {},
   "outputs": [
    {
     "name": "stdout",
     "output_type": "stream",
     "text": [
      "Input string: hello meow <3\n"
     ]
    }
   ],
   "source": [
    "str = input('Input string: ')"
   ]
  },
  {
   "cell_type": "code",
   "execution_count": 48,
   "id": "48eb6bcc",
   "metadata": {},
   "outputs": [],
   "source": [
    "l = len(str)"
   ]
  },
  {
   "cell_type": "code",
   "execution_count": 49,
   "id": "30578dfc",
   "metadata": {},
   "outputs": [
    {
     "name": "stdout",
     "output_type": "stream",
     "text": [
      "\t\t\t _______________\n",
      "\t\t\t< hello meow <3 >\n",
      "\t\t\t ---------------\n",
      "\t\t\t/\n",
      "\t      /\\_/\\    /\n",
      "\t     ( o.o )\n",
      "\t      > ^ <\n"
     ]
    }
   ],
   "source": [
    "print('\\t\\t\\t', '_'*l+'__')\n",
    "print('\\t\\t\\t<', str, '>')\n",
    "print('\\t\\t\\t', '-'*l+'--')\n",
    "print('\\t\\t\\t/')\n",
    "print('\\t      /\\_/\\    /')\n",
    "print('\\t     ( o.o )')\n",
    "print('\\t      > ^ <')"
   ]
  },
  {
   "cell_type": "code",
   "execution_count": null,
   "id": "5625d2db",
   "metadata": {},
   "outputs": [],
   "source": []
  },
  {
   "cell_type": "markdown",
   "id": "cf2e16b1",
   "metadata": {},
   "source": [
    "# №2"
   ]
  },
  {
   "cell_type": "code",
   "execution_count": 89,
   "id": "29601581",
   "metadata": {},
   "outputs": [],
   "source": [
    "goods = {}"
   ]
  },
  {
   "cell_type": "code",
   "execution_count": 90,
   "id": "e4c68db9",
   "metadata": {},
   "outputs": [
    {
     "name": "stdout",
     "output_type": "stream",
     "text": [
      "Input good's name: milk\n",
      "Input good's name: meat\n",
      "Input good's name: sweets\n",
      "Input good's name: cheese\n",
      "Input good's name: rice\n",
      "Input good's name: milk\n",
      "Input good's name: rice\n",
      "Input good's name: milk\n",
      "Input good's name: sweets\n",
      "Input good's name: sweets\n",
      "Input good's name: \n"
     ]
    }
   ],
   "source": [
    "buy = input(\"Input good's name: \")\n",
    "while (buy != ''):\n",
    "    if buy in goods:\n",
    "        goods.update({buy:goods[buy]+1})\n",
    "    else:\n",
    "        goods.update({buy:1}) \n",
    "    buy = input(\"Input good's name: \")"
   ]
  },
  {
   "cell_type": "code",
   "execution_count": 91,
   "id": "3b76c075",
   "metadata": {},
   "outputs": [
    {
     "name": "stdout",
     "output_type": "stream",
     "text": [
      "milk: 3\n",
      "meat: 1\n",
      "sweets: 3\n",
      "cheese: 1\n",
      "rice: 2\n"
     ]
    }
   ],
   "source": [
    "for key, value in goods.items():\n",
    "    print(key+':', value)"
   ]
  },
  {
   "cell_type": "code",
   "execution_count": 92,
   "id": "70f5aacf",
   "metadata": {},
   "outputs": [
    {
     "data": {
      "text/plain": [
       "3"
      ]
     },
     "execution_count": 92,
     "metadata": {},
     "output_type": "execute_result"
    }
   ],
   "source": [
    "max_value = max(goods.values())\n",
    "max_value"
   ]
  },
  {
   "cell_type": "code",
   "execution_count": 93,
   "id": "c01c061e",
   "metadata": {},
   "outputs": [],
   "source": [
    "for key in goods.copy().keys():\n",
    "    if (goods[key]==max_value):\n",
    "        del goods[key]"
   ]
  },
  {
   "cell_type": "code",
   "execution_count": 94,
   "id": "3b2d7248",
   "metadata": {},
   "outputs": [
    {
     "name": "stdout",
     "output_type": "stream",
     "text": [
      "meat: 1\n",
      "cheese: 1\n",
      "rice: 2\n"
     ]
    }
   ],
   "source": [
    "for key, value in goods.items():\n",
    "    print(key+':', value)"
   ]
  },
  {
   "cell_type": "code",
   "execution_count": null,
   "id": "d59c393d",
   "metadata": {},
   "outputs": [],
   "source": []
  }
 ],
 "metadata": {
  "kernelspec": {
   "display_name": "Python 3",
   "language": "python",
   "name": "python3"
  },
  "language_info": {
   "codemirror_mode": {
    "name": "ipython",
    "version": 3
   },
   "file_extension": ".py",
   "mimetype": "text/x-python",
   "name": "python",
   "nbconvert_exporter": "python",
   "pygments_lexer": "ipython3",
   "version": "3.8.8"
  }
 },
 "nbformat": 4,
 "nbformat_minor": 5
}

{
 "cells": [
  {
   "cell_type": "markdown",
   "id": "fdf7192e",
   "metadata": {},
   "source": [
    "# №1"
   ]
  },
  {
   "cell_type": "code",
   "execution_count": 5,
   "id": "6af1d9b8",
   "metadata": {},
   "outputs": [],
   "source": [
    "class Nums:\n",
    "    def __init__(self, arg):\n",
    "        self.arg = arg\n",
    "    def __add__(self, b):\n",
    "        sum = self.arg + b.arg\n",
    "        return sum"
   ]
  },
  {
   "cell_type": "code",
   "execution_count": 6,
   "id": "e58a9c22",
   "metadata": {},
   "outputs": [],
   "source": [
    "a = Nums(2)"
   ]
  },
  {
   "cell_type": "code",
   "execution_count": 7,
   "id": "83f6664d",
   "metadata": {},
   "outputs": [],
   "source": [
    "b = Nums(3)"
   ]
  },
  {
   "cell_type": "code",
   "execution_count": 9,
   "id": "1e1469fc",
   "metadata": {},
   "outputs": [
    {
     "data": {
      "text/plain": [
       "5"
      ]
     },
     "execution_count": 9,
     "metadata": {},
     "output_type": "execute_result"
    }
   ],
   "source": [
    "a + b"
   ]
  },
  {
   "cell_type": "code",
   "execution_count": null,
   "id": "dd6a4809",
   "metadata": {},
   "outputs": [],
   "source": []
  },
  {
   "cell_type": "markdown",
   "id": "a8f6f055",
   "metadata": {},
   "source": [
    "# №2"
   ]
  },
  {
   "cell_type": "code",
   "execution_count": 34,
   "id": "df4437a0",
   "metadata": {},
   "outputs": [],
   "source": [
    "class String(str):\n",
    "    def is_repeatance(self, s):\n",
    "        if not isinstance(s, str):\n",
    "            return False\n",
    "        if (len(self)==0):\n",
    "            return False\n",
    "        n = len(self) / len(s)\n",
    "        if (self == int(n) * s):\n",
    "            return True\n",
    "        else:\n",
    "            return False\n",
    "    def is_palindrom(self):\n",
    "        if self.lower() == self.lower()[::-1]:\n",
    "            return True\n",
    "        else:\n",
    "            return False"
   ]
  },
  {
   "cell_type": "code",
   "execution_count": 35,
   "id": "2966c0aa",
   "metadata": {},
   "outputs": [],
   "source": [
    "a = String('abcabcabc')"
   ]
  },
  {
   "cell_type": "code",
   "execution_count": 36,
   "id": "a449742b",
   "metadata": {},
   "outputs": [
    {
     "data": {
      "text/plain": [
       "True"
      ]
     },
     "execution_count": 36,
     "metadata": {},
     "output_type": "execute_result"
    }
   ],
   "source": [
    "a.is_repeatance('abc')"
   ]
  },
  {
   "cell_type": "code",
   "execution_count": 37,
   "id": "3a9eb1d8",
   "metadata": {},
   "outputs": [
    {
     "data": {
      "text/plain": [
       "False"
      ]
     },
     "execution_count": 37,
     "metadata": {},
     "output_type": "execute_result"
    }
   ],
   "source": [
    "a.is_repeatance('ab')"
   ]
  },
  {
   "cell_type": "code",
   "execution_count": 38,
   "id": "a1ae023a",
   "metadata": {},
   "outputs": [
    {
     "data": {
      "text/plain": [
       "False"
      ]
     },
     "execution_count": 38,
     "metadata": {},
     "output_type": "execute_result"
    }
   ],
   "source": [
    "a.is_repeatance(123)"
   ]
  },
  {
   "cell_type": "code",
   "execution_count": 39,
   "id": "efe846cf",
   "metadata": {},
   "outputs": [],
   "source": [
    "b = String('')              "
   ]
  },
  {
   "cell_type": "code",
   "execution_count": 40,
   "id": "0fb234c3",
   "metadata": {},
   "outputs": [
    {
     "data": {
      "text/plain": [
       "False"
      ]
     },
     "execution_count": 40,
     "metadata": {},
     "output_type": "execute_result"
    }
   ],
   "source": [
    "b.is_repeatance('a')"
   ]
  },
  {
   "cell_type": "code",
   "execution_count": 41,
   "id": "72d3cfe0",
   "metadata": {},
   "outputs": [
    {
     "data": {
      "text/plain": [
       "False"
      ]
     },
     "execution_count": 41,
     "metadata": {},
     "output_type": "execute_result"
    }
   ],
   "source": [
    "a.is_palindrom()"
   ]
  },
  {
   "cell_type": "code",
   "execution_count": 42,
   "id": "dd813019",
   "metadata": {},
   "outputs": [],
   "source": [
    "c = String('palinilap')"
   ]
  },
  {
   "cell_type": "code",
   "execution_count": 43,
   "id": "ca74b883",
   "metadata": {},
   "outputs": [
    {
     "data": {
      "text/plain": [
       "True"
      ]
     },
     "execution_count": 43,
     "metadata": {},
     "output_type": "execute_result"
    }
   ],
   "source": [
    "c.is_palindrom()"
   ]
  },
  {
   "cell_type": "code",
   "execution_count": 44,
   "id": "0db77472",
   "metadata": {},
   "outputs": [
    {
     "data": {
      "text/plain": [
       "True"
      ]
     },
     "execution_count": 44,
     "metadata": {},
     "output_type": "execute_result"
    }
   ],
   "source": [
    "b.is_palindrom()"
   ]
  },
  {
   "cell_type": "code",
   "execution_count": null,
   "id": "8fc22a36",
   "metadata": {},
   "outputs": [],
   "source": []
  },
  {
   "cell_type": "markdown",
   "id": "e6c4039f",
   "metadata": {},
   "source": [
    "# №3"
   ]
  },
  {
   "cell_type": "code",
   "execution_count": 103,
   "id": "1cc88757",
   "metadata": {},
   "outputs": [],
   "source": [
    "from math import pi\n",
    " \n",
    "class Cylinder:\n",
    "    @staticmethod\n",
    "    def make_area(d, h):\n",
    "        circle = pi * d ** 2 / 4\n",
    "        side = pi * d * h\n",
    "        return round(circle*2 + side, 2)\n",
    " \n",
    "    def __init__(self, di, hi):\n",
    "        self.__dict__['dia'] = di\n",
    "        self.__dict__['h'] = hi\n",
    "        self.__dict__['area'] = self.make_area(di, hi)\n",
    "        \n",
    "    def __setattr__(self, attr, value):\n",
    "        if (attr == 'dia' or attr == 'h'):\n",
    "            self.__dict__[attr] = value\n",
    "            self.__dict__['area'] = self.make_area(self.dia, self.h)\n",
    "        else:\n",
    "            raise AttributeError"
   ]
  },
  {
   "cell_type": "code",
   "execution_count": 109,
   "id": "2150c381",
   "metadata": {},
   "outputs": [],
   "source": [
    "a = Cylinder(1, 2)"
   ]
  },
  {
   "cell_type": "code",
   "execution_count": 110,
   "id": "3bc9b2a0",
   "metadata": {},
   "outputs": [
    {
     "data": {
      "text/plain": [
       "7.85"
      ]
     },
     "execution_count": 110,
     "metadata": {},
     "output_type": "execute_result"
    }
   ],
   "source": [
    "a.area"
   ]
  },
  {
   "cell_type": "code",
   "execution_count": 111,
   "id": "d2d39d9d",
   "metadata": {},
   "outputs": [],
   "source": [
    "a.dia = 3"
   ]
  },
  {
   "cell_type": "code",
   "execution_count": 112,
   "id": "80f28ac7",
   "metadata": {},
   "outputs": [],
   "source": [
    "a.h = 4"
   ]
  },
  {
   "cell_type": "code",
   "execution_count": 113,
   "id": "151f414d",
   "metadata": {},
   "outputs": [
    {
     "data": {
      "text/plain": [
       "51.84"
      ]
     },
     "execution_count": 113,
     "metadata": {},
     "output_type": "execute_result"
    }
   ],
   "source": [
    "a.area"
   ]
  },
  {
   "cell_type": "code",
   "execution_count": 114,
   "id": "1b4c9b67",
   "metadata": {},
   "outputs": [
    {
     "ename": "AttributeError",
     "evalue": "",
     "output_type": "error",
     "traceback": [
      "\u001b[1;31m---------------------------------------------------------------------------\u001b[0m",
      "\u001b[1;31mAttributeError\u001b[0m                            Traceback (most recent call last)",
      "\u001b[1;32m<ipython-input-114-1cf3cc709c42>\u001b[0m in \u001b[0;36m<module>\u001b[1;34m\u001b[0m\n\u001b[1;32m----> 1\u001b[1;33m \u001b[0ma\u001b[0m\u001b[1;33m.\u001b[0m\u001b[0marea\u001b[0m \u001b[1;33m=\u001b[0m \u001b[1;36m100\u001b[0m\u001b[1;33m\u001b[0m\u001b[1;33m\u001b[0m\u001b[0m\n\u001b[0m",
      "\u001b[1;32m<ipython-input-103-7d76c817539d>\u001b[0m in \u001b[0;36m__setattr__\u001b[1;34m(self, attr, value)\u001b[0m\n\u001b[0;32m     21\u001b[0m             \u001b[0mself\u001b[0m\u001b[1;33m.\u001b[0m\u001b[0m__dict__\u001b[0m\u001b[1;33m[\u001b[0m\u001b[1;34m'area'\u001b[0m\u001b[1;33m]\u001b[0m \u001b[1;33m=\u001b[0m \u001b[0mself\u001b[0m\u001b[1;33m.\u001b[0m\u001b[0mmake_area\u001b[0m\u001b[1;33m(\u001b[0m\u001b[0mself\u001b[0m\u001b[1;33m.\u001b[0m\u001b[0mdia\u001b[0m\u001b[1;33m,\u001b[0m \u001b[0mself\u001b[0m\u001b[1;33m.\u001b[0m\u001b[0mh\u001b[0m\u001b[1;33m)\u001b[0m\u001b[1;33m\u001b[0m\u001b[1;33m\u001b[0m\u001b[0m\n\u001b[0;32m     22\u001b[0m         \u001b[1;32melse\u001b[0m\u001b[1;33m:\u001b[0m\u001b[1;33m\u001b[0m\u001b[1;33m\u001b[0m\u001b[0m\n\u001b[1;32m---> 23\u001b[1;33m             \u001b[1;32mraise\u001b[0m \u001b[0mAttributeError\u001b[0m\u001b[1;33m\u001b[0m\u001b[1;33m\u001b[0m\u001b[0m\n\u001b[0m",
      "\u001b[1;31mAttributeError\u001b[0m: "
     ]
    }
   ],
   "source": [
    "a.area = 100"
   ]
  },
  {
   "cell_type": "code",
   "execution_count": null,
   "id": "b0bc45e7",
   "metadata": {},
   "outputs": [],
   "source": []
  }
 ],
 "metadata": {
  "kernelspec": {
   "display_name": "Python 3",
   "language": "python",
   "name": "python3"
  },
  "language_info": {
   "codemirror_mode": {
    "name": "ipython",
    "version": 3
   },
   "file_extension": ".py",
   "mimetype": "text/x-python",
   "name": "python",
   "nbconvert_exporter": "python",
   "pygments_lexer": "ipython3",
   "version": "3.8.8"
  }
 },
 "nbformat": 4,
 "nbformat_minor": 5
}
